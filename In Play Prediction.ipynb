{
 "cells": [
  {
   "cell_type": "code",
   "execution_count": 1,
   "id": "69b1ccf4",
   "metadata": {},
   "outputs": [],
   "source": [
    "import pandas as pd\n",
    "import numpy as np\n",
    "import matplotlib.pyplot as plt\n",
    "from sklearn.model_selection import train_test_split\n",
    "from sklearn.ensemble import RandomForestClassifier\n",
    "from sklearn.linear_model import LogisticRegression\n",
    "from sklearn.metrics import log_loss"
   ]
  },
  {
   "cell_type": "markdown",
   "id": "f454806a",
   "metadata": {},
   "source": [
    "## Read in the Data"
   ]
  },
  {
   "cell_type": "code",
   "execution_count": 2,
   "id": "3be5fd4f",
   "metadata": {},
   "outputs": [
    {
     "data": {
      "text/html": [
       "<div>\n",
       "<style scoped>\n",
       "    .dataframe tbody tr th:only-of-type {\n",
       "        vertical-align: middle;\n",
       "    }\n",
       "\n",
       "    .dataframe tbody tr th {\n",
       "        vertical-align: top;\n",
       "    }\n",
       "\n",
       "    .dataframe thead th {\n",
       "        text-align: right;\n",
       "    }\n",
       "</style>\n",
       "<table border=\"1\" class=\"dataframe\">\n",
       "  <thead>\n",
       "    <tr style=\"text-align: right;\">\n",
       "      <th></th>\n",
       "      <th>InPlay</th>\n",
       "      <th>Velo</th>\n",
       "      <th>SpinRate</th>\n",
       "      <th>HorzBreak</th>\n",
       "      <th>InducedVertBreak</th>\n",
       "    </tr>\n",
       "  </thead>\n",
       "  <tbody>\n",
       "    <tr>\n",
       "      <th>0</th>\n",
       "      <td>0</td>\n",
       "      <td>95.33</td>\n",
       "      <td>2893.0</td>\n",
       "      <td>10.68</td>\n",
       "      <td>21.33</td>\n",
       "    </tr>\n",
       "    <tr>\n",
       "      <th>1</th>\n",
       "      <td>0</td>\n",
       "      <td>94.41</td>\n",
       "      <td>2038.0</td>\n",
       "      <td>17.13</td>\n",
       "      <td>5.77</td>\n",
       "    </tr>\n",
       "    <tr>\n",
       "      <th>2</th>\n",
       "      <td>0</td>\n",
       "      <td>90.48</td>\n",
       "      <td>2183.0</td>\n",
       "      <td>6.61</td>\n",
       "      <td>15.39</td>\n",
       "    </tr>\n",
       "    <tr>\n",
       "      <th>3</th>\n",
       "      <td>0</td>\n",
       "      <td>93.04</td>\n",
       "      <td>2279.0</td>\n",
       "      <td>9.33</td>\n",
       "      <td>14.57</td>\n",
       "    </tr>\n",
       "    <tr>\n",
       "      <th>4</th>\n",
       "      <td>0</td>\n",
       "      <td>95.17</td>\n",
       "      <td>2384.0</td>\n",
       "      <td>6.99</td>\n",
       "      <td>17.62</td>\n",
       "    </tr>\n",
       "  </tbody>\n",
       "</table>\n",
       "</div>"
      ],
      "text/plain": [
       "   InPlay   Velo  SpinRate  HorzBreak  InducedVertBreak\n",
       "0       0  95.33    2893.0      10.68             21.33\n",
       "1       0  94.41    2038.0      17.13              5.77\n",
       "2       0  90.48    2183.0       6.61             15.39\n",
       "3       0  93.04    2279.0       9.33             14.57\n",
       "4       0  95.17    2384.0       6.99             17.62"
      ]
     },
     "execution_count": 2,
     "metadata": {},
     "output_type": "execute_result"
    }
   ],
   "source": [
    "train_df = pd.read_csv('training.csv')\n",
    "train_df.head()"
   ]
  },
  {
   "cell_type": "code",
   "execution_count": 3,
   "id": "2814a4f3",
   "metadata": {},
   "outputs": [
    {
     "data": {
      "text/plain": [
       "InPlay              0\n",
       "Velo                0\n",
       "SpinRate            6\n",
       "HorzBreak           0\n",
       "InducedVertBreak    0\n",
       "dtype: int64"
      ]
     },
     "execution_count": 3,
     "metadata": {},
     "output_type": "execute_result"
    }
   ],
   "source": [
    "train_df.isnull().sum()"
   ]
  },
  {
   "cell_type": "markdown",
   "id": "9ff34280",
   "metadata": {},
   "source": [
    "## Fill the missing spinrates with the mean.\n",
    "- We are only missing 6 spinrates so filling the missing with the mean will not skew the data drastically."
   ]
  },
  {
   "cell_type": "code",
   "execution_count": 4,
   "id": "9fb63311",
   "metadata": {},
   "outputs": [],
   "source": [
    "spin_avg = train_df.SpinRate.mean()\n",
    "\n",
    "# fill nulls\n",
    "train_df['SpinRate'] = train_df['SpinRate'].fillna(spin_avg)"
   ]
  },
  {
   "cell_type": "markdown",
   "id": "04534e99",
   "metadata": {},
   "source": [
    "## Explore the Data"
   ]
  },
  {
   "cell_type": "code",
   "execution_count": 5,
   "id": "2d0be853",
   "metadata": {},
   "outputs": [],
   "source": [
    "def plot_histogram(df, column):\n",
    "    fig, ax = plt.subplots(figsize=(7,5))\n",
    "    \n",
    "    # plot hist\n",
    "    plt.hist(train_df[column], bins=20)\n",
    "    plt.title(f\"Histogram for {column}.\")\n",
    "    plt.show()"
   ]
  },
  {
   "cell_type": "code",
   "execution_count": 6,
   "id": "d628768b",
   "metadata": {},
   "outputs": [
    {
     "data": {
      "image/png": "[encoded data removed]",
      "text/plain": [
       "<Figure size 504x360 with 1 Axes>"
      ]
     },
     "metadata": {
      "needs_background": "light"
     },
     "output_type": "display_data"
    }
   ],
   "source": [
    "plot_histogram(train_df, 'Velo')"
   ]
  },
  {
   "cell_type": "code",
   "execution_count": 7,
   "id": "85f80c6a",
   "metadata": {},
   "outputs": [
    {
     "data": {
      "image/png": "[encoded data removed]",
      "text/plain": [
       "<Figure size 504x360 with 1 Axes>"
      ]
     },
     "metadata": {
      "needs_background": "light"
     },
     "output_type": "display_data"
    }
   ],
   "source": [
    "plot_histogram(train_df, 'HorzBreak')"
   ]
  },
  {
   "cell_type": "code",
   "execution_count": 8,
   "id": "0b4cbef8",
   "metadata": {},
   "outputs": [
    {
     "data": {
      "image/png": "[encoded data removed]",
      "text/plain": [
       "<Figure size 504x360 with 1 Axes>"
      ]
     },
     "metadata": {
      "needs_background": "light"
     },
     "output_type": "display_data"
    }
   ],
   "source": [
    "plot_histogram(train_df, 'InducedVertBreak')"
   ]
  },
  {
   "cell_type": "markdown",
   "id": "44e48266",
   "metadata": {},
   "source": [
    "- There does seem to be a couple outliers for Velocity. I will explore those."
   ]
  },
  {
   "cell_type": "code",
   "execution_count": 9,
   "id": "f0ccd610",
   "metadata": {},
   "outputs": [
    {
     "data": {
      "text/html": [
       "<div>\n",
       "<style scoped>\n",
       "    .dataframe tbody tr th:only-of-type {\n",
       "        vertical-align: middle;\n",
       "    }\n",
       "\n",
       "    .dataframe tbody tr th {\n",
       "        vertical-align: top;\n",
       "    }\n",
       "\n",
       "    .dataframe thead th {\n",
       "        text-align: right;\n",
       "    }\n",
       "</style>\n",
       "<table border=\"1\" class=\"dataframe\">\n",
       "  <thead>\n",
       "    <tr style=\"text-align: right;\">\n",
       "      <th></th>\n",
       "      <th>InPlay</th>\n",
       "      <th>Velo</th>\n",
       "      <th>SpinRate</th>\n",
       "      <th>HorzBreak</th>\n",
       "      <th>InducedVertBreak</th>\n",
       "    </tr>\n",
       "  </thead>\n",
       "  <tbody>\n",
       "    <tr>\n",
       "      <th>92</th>\n",
       "      <td>0</td>\n",
       "      <td>70.79</td>\n",
       "      <td>1504.0</td>\n",
       "      <td>8.99</td>\n",
       "      <td>15.17</td>\n",
       "    </tr>\n",
       "    <tr>\n",
       "      <th>142</th>\n",
       "      <td>0</td>\n",
       "      <td>67.61</td>\n",
       "      <td>1641.0</td>\n",
       "      <td>15.35</td>\n",
       "      <td>7.25</td>\n",
       "    </tr>\n",
       "    <tr>\n",
       "      <th>185</th>\n",
       "      <td>1</td>\n",
       "      <td>66.90</td>\n",
       "      <td>1629.0</td>\n",
       "      <td>13.55</td>\n",
       "      <td>14.67</td>\n",
       "    </tr>\n",
       "    <tr>\n",
       "      <th>2575</th>\n",
       "      <td>1</td>\n",
       "      <td>71.46</td>\n",
       "      <td>1796.0</td>\n",
       "      <td>6.82</td>\n",
       "      <td>15.94</td>\n",
       "    </tr>\n",
       "    <tr>\n",
       "      <th>3350</th>\n",
       "      <td>1</td>\n",
       "      <td>66.44</td>\n",
       "      <td>1391.0</td>\n",
       "      <td>-5.62</td>\n",
       "      <td>16.42</td>\n",
       "    </tr>\n",
       "    <tr>\n",
       "      <th>3685</th>\n",
       "      <td>0</td>\n",
       "      <td>59.76</td>\n",
       "      <td>1425.0</td>\n",
       "      <td>0.50</td>\n",
       "      <td>12.68</td>\n",
       "    </tr>\n",
       "    <tr>\n",
       "      <th>3949</th>\n",
       "      <td>0</td>\n",
       "      <td>72.33</td>\n",
       "      <td>1758.0</td>\n",
       "      <td>8.35</td>\n",
       "      <td>12.89</td>\n",
       "    </tr>\n",
       "    <tr>\n",
       "      <th>4127</th>\n",
       "      <td>1</td>\n",
       "      <td>72.91</td>\n",
       "      <td>1794.0</td>\n",
       "      <td>13.29</td>\n",
       "      <td>16.32</td>\n",
       "    </tr>\n",
       "    <tr>\n",
       "      <th>5153</th>\n",
       "      <td>0</td>\n",
       "      <td>62.61</td>\n",
       "      <td>1288.0</td>\n",
       "      <td>9.82</td>\n",
       "      <td>10.67</td>\n",
       "    </tr>\n",
       "    <tr>\n",
       "      <th>5442</th>\n",
       "      <td>1</td>\n",
       "      <td>61.17</td>\n",
       "      <td>1681.0</td>\n",
       "      <td>9.50</td>\n",
       "      <td>16.05</td>\n",
       "    </tr>\n",
       "    <tr>\n",
       "      <th>5836</th>\n",
       "      <td>0</td>\n",
       "      <td>61.86</td>\n",
       "      <td>1563.0</td>\n",
       "      <td>0.02</td>\n",
       "      <td>13.00</td>\n",
       "    </tr>\n",
       "    <tr>\n",
       "      <th>6443</th>\n",
       "      <td>1</td>\n",
       "      <td>67.28</td>\n",
       "      <td>1707.0</td>\n",
       "      <td>1.89</td>\n",
       "      <td>20.74</td>\n",
       "    </tr>\n",
       "    <tr>\n",
       "      <th>7903</th>\n",
       "      <td>1</td>\n",
       "      <td>66.91</td>\n",
       "      <td>1580.0</td>\n",
       "      <td>6.69</td>\n",
       "      <td>15.73</td>\n",
       "    </tr>\n",
       "  </tbody>\n",
       "</table>\n",
       "</div>"
      ],
      "text/plain": [
       "      InPlay   Velo  SpinRate  HorzBreak  InducedVertBreak\n",
       "92         0  70.79    1504.0       8.99             15.17\n",
       "142        0  67.61    1641.0      15.35              7.25\n",
       "185        1  66.90    1629.0      13.55             14.67\n",
       "2575       1  71.46    1796.0       6.82             15.94\n",
       "3350       1  66.44    1391.0      -5.62             16.42\n",
       "3685       0  59.76    1425.0       0.50             12.68\n",
       "3949       0  72.33    1758.0       8.35             12.89\n",
       "4127       1  72.91    1794.0      13.29             16.32\n",
       "5153       0  62.61    1288.0       9.82             10.67\n",
       "5442       1  61.17    1681.0       9.50             16.05\n",
       "5836       0  61.86    1563.0       0.02             13.00\n",
       "6443       1  67.28    1707.0       1.89             20.74\n",
       "7903       1  66.91    1580.0       6.69             15.73"
      ]
     },
     "execution_count": 9,
     "metadata": {},
     "output_type": "execute_result"
    }
   ],
   "source": [
    "train_df[train_df.Velo <= 75]"
   ]
  },
  {
   "cell_type": "markdown",
   "id": "7c0df371",
   "metadata": {},
   "source": [
    "- Because there are multiple slow pitches for Pitcher A, I am not too concerned and will leave them in the dataset."
   ]
  },
  {
   "cell_type": "markdown",
   "id": "531b9352",
   "metadata": {},
   "source": [
    "## Create Model to predict InPlay probability\n",
    "- I will explore logistic regression and random forest"
   ]
  },
  {
   "cell_type": "code",
   "execution_count": 10,
   "id": "c165711e",
   "metadata": {},
   "outputs": [],
   "source": [
    "# get X and y dataframes\n",
    "X = train_df[['Velo', 'SpinRate', 'HorzBreak', 'InducedVertBreak']]\n",
    "y = train_df.InPlay\n",
    "\n",
    "# create train test split.\n",
    "X_train, X_test, y_train, y_test = train_test_split(X, y, test_size=0.2, random_state=42)"
   ]
  },
  {
   "cell_type": "code",
   "execution_count": 11,
   "id": "4e673ff3",
   "metadata": {},
   "outputs": [],
   "source": [
    "# initialize and fit Random Forest\n",
    "rf = RandomForestClassifier(n_jobs=-1).fit(X_train, y_train)\n",
    "\n",
    "# predict the probability\n",
    "y_hat_prob = rf.predict_proba(X_test)\n",
    "\n",
    "# get the log loss score\n",
    "rf_log_loss = log_loss(y_test, y_hat_prob)"
   ]
  },
  {
   "cell_type": "code",
   "execution_count": 12,
   "id": "45ac9ed6",
   "metadata": {},
   "outputs": [],
   "source": [
    "# initialize logistic regression\n",
    "lr = LogisticRegression().fit(X_train, y_train)\n",
    "\n",
    "# predict the probability\n",
    "y_hat_prob = lr.predict_proba(X_test)\n",
    "\n",
    "# get the log loss score\n",
    "lr_log_loss = log_loss(y_test, y_hat_prob)"
   ]
  },
  {
   "cell_type": "code",
   "execution_count": 13,
   "id": "d21c94a6",
   "metadata": {},
   "outputs": [
    {
     "name": "stdout",
     "output_type": "stream",
     "text": [
      "Log Loss for Logistic Regression: 0.5741\n",
      "Log Loss for Random Forest Classification: 0.598\n"
     ]
    }
   ],
   "source": [
    "print('Log Loss for Logistic Regression:', round(lr_log_loss, 4))\n",
    "print('Log Loss for Random Forest Classification:', round(rf_log_loss, 4))"
   ]
  },
  {
   "cell_type": "markdown",
   "id": "72005ca0",
   "metadata": {},
   "source": [
    "- Logistic Regression is outpreforming the Rnadom Forest. That is what I will use for the final model."
   ]
  },
  {
   "cell_type": "markdown",
   "id": "a1ef4391",
   "metadata": {},
   "source": [
    "## Train Final Model and Make Final Predictions"
   ]
  },
  {
   "cell_type": "code",
   "execution_count": 14,
   "id": "9b7b9181",
   "metadata": {},
   "outputs": [],
   "source": [
    "# read in data\n",
    "test_df = pd.read_csv('deploy.csv')\n",
    "\n",
    "# fill missing spin values with the average\n",
    "test_df['SpinRate'] = test_df['SpinRate'].fillna(spin_avg)"
   ]
  },
  {
   "cell_type": "code",
   "execution_count": 15,
   "id": "35a59856",
   "metadata": {},
   "outputs": [],
   "source": [
    "# initialize logistic regression and train full model\n",
    "lr = LogisticRegression().fit(X, y)\n",
    "\n",
    "# predict the probability\n",
    "y_hat_prob = lr.predict_proba(test_df)\n",
    "\n",
    "# create the new column \n",
    "test_df['InPlay_probability'] = np.round(y_hat_prob[:, 1], 4)"
   ]
  },
  {
   "cell_type": "code",
   "execution_count": 16,
   "id": "be1ecbdf",
   "metadata": {},
   "outputs": [],
   "source": [
    "# write to a csv\n",
    "test_df.to_csv('deploy_with_predictions.csv', index=False)"
   ]
  },
  {
   "cell_type": "markdown",
   "id": "385579b1",
   "metadata": {},
   "source": [
    "### 2. In one paragraph, please explain your process and reasoning for any decisions you made in Question 1. \n",
    "For this assignment, we wanted to predict the probability of a ball being put into play based on the pitch’s velocity, spin rate, horizontal break, and vertical break. I explored the data first, as I wanted to check for missing values and outliers, and ended up finding a few missing values. Since there was not a large number of missing values, I decided to fill them with the mean, as that would not drastically alter my results. I looked at two different models, Logistic Regression and Random Forest Classifier. After fitting both, Logistic Regression had the lower log loss score on the test set, so that was the model I ended up going with. Finally, I fitted the full model and got the predictions for deploy.csv."
   ]
  },
  {
   "cell_type": "markdown",
   "id": "5d2c6347",
   "metadata": {},
   "source": [
    "### 3. In one or two sentences, please describe to the pitcher how these 4 variables affect the batter’s ability to put the ball in play. You can also include one plot or table to show to the pitcher if you think it would help."
   ]
  },
  {
   "cell_type": "code",
   "execution_count": 17,
   "id": "08ffd588",
   "metadata": {},
   "outputs": [
    {
     "data": {
      "image/png": "[encoded data removed]",
      "text/plain": [
       "<Figure size 504x504 with 1 Axes>"
      ]
     },
     "metadata": {
      "needs_background": "light"
     },
     "output_type": "display_data"
    }
   ],
   "source": [
    "fig, ax = plt.subplots(figsize=(7,7))\n",
    "labels = ['Velo', 'SpinRate', 'HorzBreak', 'InducedVertBreak']\n",
    "values = lr.coef_\n",
    "plt.bar(x=labels, height=values[0])\n",
    "plt.title('Beta Coefficients for the model.')\n",
    "plt.show()"
   ]
  },
  {
   "cell_type": "markdown",
   "id": "83dc299d",
   "metadata": {},
   "source": [
    "When velocity and induced vertical break increase, the probability of it being put in play drops. When horizontal break increases, the probability increases."
   ]
  },
  {
   "cell_type": "markdown",
   "id": "9325adaa",
   "metadata": {},
   "source": [
    "### 4. In one of two sentences, please describe what you would see as the next steps with your model and/or results if you were in the analyst role and had another week to work on the question posed by the pitcher.\n",
    "A potential next step would be to explore more types of models, maybe a neural network or adaboost. I would also like to have data about the pitch location and batter handedness."
   ]
  },
  {
   "cell_type": "code",
   "execution_count": null,
   "id": "852f42ec",
   "metadata": {},
   "outputs": [],
   "source": []
  }
 ],
 "metadata": {
  "kernelspec": {
   "display_name": "Python 3",
   "language": "python",
   "name": "python3"
  },
  "language_info": {
   "codemirror_mode": {
    "name": "ipython",
    "version": 3
   },
   "file_extension": ".py",
   "mimetype": "text/x-python",
   "name": "python",
   "nbconvert_exporter": "python",
   "pygments_lexer": "ipython3",
   "version": "3.8.8"
  }
 },
 "nbformat": 4,
 "nbformat_minor": 5
}
